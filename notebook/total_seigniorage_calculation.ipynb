{
 "cells": [
  {
   "cell_type": "markdown",
   "metadata": {},
   "source": [
    "# Total Seigniorage Calculation\n",
    "\n",
    "How much seigniorage generated in case of `one commit` and `every commit` in same blocks\n",
    "\n",
    "`p1 case - every commit in blocks` \n",
    "```\n",
    "blocks  :  1...2...3..  ...2425845...2425846\n",
    "commits : c1, c2, c3,.. ..c2425845, c2425846\n",
    "```\n",
    "`p2 case - one commit in blocks` \n",
    "```\n",
    "blocks  :  1...2...3..  ...2425845...2425846\n",
    "commits :                                 c1\n",
    "```"
   ]
  },
  {
   "cell_type": "code",
   "execution_count": 1,
   "metadata": {},
   "outputs": [],
   "source": [
    "from typing import List\n",
    "from random import random, randrange\n",
    "from dataclasses import asdict\n",
    "\n",
    "import names\n",
    "from powerton import User, Operator, Player, Powerton, OMD\n",
    "\n",
    "import pandas as pd\n",
    "pd.options.display.float_format = '{:.18f}'.format\n",
    "\n",
    "p1 = Powerton()\n",
    "p2 = Powerton()\n",
    "\n",
    "# set to No winning chance\n",
    "p1.AIRDROP_CHANCE = -1\n",
    "p1.WINNING_CHANCE = -1\n",
    "\n",
    "p2.AIRDROP_CHANCE = -1\n",
    "p2.WINNING_CHANCE = -1"
   ]
  },
  {
   "cell_type": "code",
   "execution_count": 2,
   "metadata": {},
   "outputs": [
    {
     "data": {
      "text/plain": [
       "78.32319116712273"
      ]
     },
     "execution_count": 2,
     "metadata": {},
     "output_type": "execute_result"
    }
   ],
   "source": [
    "p1.SEIG_PER_BLOCK"
   ]
  },
  {
   "cell_type": "code",
   "execution_count": 3,
   "metadata": {},
   "outputs": [],
   "source": [
    "p1.add_user(\"Operator\", OMD)\n",
    "p1.add_user(\"User\", p1.INITIAL_SUPPLY - OMD)\n",
    "p1.add_operator(\"Operator\")\n",
    "p1.delegate(\"User\", \"Operator\", 999000000)"
   ]
  },
  {
   "cell_type": "code",
   "execution_count": 4,
   "metadata": {},
   "outputs": [
    {
     "data": {
      "text/plain": [
       "{'name': 'Operator',\n",
       " 'balance': 0.0,\n",
       " 'delegated': 1000000.0,\n",
       " 'delegators': [],\n",
       " 'supported_power': 0,\n",
       " 'power_supporters': {},\n",
       " 'delegatees': ['Operator', 'User'],\n",
       " 'delegated_balances': {'Operator': 1000000, 'User': 999000000}}"
      ]
     },
     "execution_count": 4,
     "metadata": {},
     "output_type": "execute_result"
    }
   ],
   "source": [
    "asdict(p1.Operators[\"Operator\"])"
   ]
  },
  {
   "cell_type": "code",
   "execution_count": 5,
   "metadata": {},
   "outputs": [],
   "source": [
    "p1._update_ton()"
   ]
  },
  {
   "cell_type": "code",
   "execution_count": 6,
   "metadata": {},
   "outputs": [],
   "source": [
    "# Override TON balance\n",
    "# Only `User` has all TON\n",
    "p1.Users['User'].delegated = p1.INITIAL_SUPPLY\n",
    "p1.Operators['Operator'].delegated_balances['User'] = p1.INITIAL_SUPPLY\n",
    "p1.Operators['Operator'].delegated = 0\n",
    "p1.Operators['Operator'].delegated_balances['Operator'] = 0"
   ]
  },
  {
   "cell_type": "code",
   "execution_count": 7,
   "metadata": {},
   "outputs": [
    {
     "data": {
      "text/plain": [
       "{'name': 'User', 'balance': 0.0, 'delegated': 1000000000, 'delegators': []}"
      ]
     },
     "execution_count": 7,
     "metadata": {},
     "output_type": "execute_result"
    }
   ],
   "source": [
    "asdict(p1.Users['User'])"
   ]
  },
  {
   "cell_type": "code",
   "execution_count": 8,
   "metadata": {},
   "outputs": [
    {
     "data": {
      "text/plain": [
       "{'name': 'Operator',\n",
       " 'balance': 0.0,\n",
       " 'delegated': 0,\n",
       " 'delegators': [],\n",
       " 'supported_power': 0,\n",
       " 'power_supporters': {},\n",
       " 'delegatees': ['Operator', 'User'],\n",
       " 'delegated_balances': {'Operator': 0, 'User': 1000000000}}"
      ]
     },
     "execution_count": 8,
     "metadata": {},
     "output_type": "execute_result"
    }
   ],
   "source": [
    "asdict(p1.Operators['Operator'])"
   ]
  },
  {
   "cell_type": "code",
   "execution_count": 9,
   "metadata": {},
   "outputs": [
    {
     "data": {
      "text/plain": [
       "True"
      ]
     },
     "execution_count": 9,
     "metadata": {},
     "output_type": "execute_result"
    }
   ],
   "source": [
    "p1_o = asdict(p1.Operators[\"Operator\"])\n",
    "p1_u = asdict(p1.Users[\"User\"])\n",
    "\n",
    "p1.Total_TON_supply == p1_o['delegated'] + p1_u['delegated']"
   ]
  },
  {
   "cell_type": "code",
   "execution_count": 10,
   "metadata": {},
   "outputs": [
    {
     "data": {
      "text/plain": [
       "1.0"
      ]
     },
     "execution_count": 10,
     "metadata": {},
     "output_type": "execute_result"
    }
   ],
   "source": [
    "p1.Staking_ratio"
   ]
  },
  {
   "cell_type": "code",
   "execution_count": 11,
   "metadata": {},
   "outputs": [],
   "source": [
    "for i in range(p1.BLOCKS_YEAR): # 1 Year estimated block\n",
    "    p1.commit(\"Operator\")\n",
    "    p1.wrap()\n",
    "\n",
    "p2._update_ton()"
   ]
  },
  {
   "cell_type": "code",
   "execution_count": 12,
   "metadata": {},
   "outputs": [
    {
     "data": {
      "text/plain": [
       "1.0"
      ]
     },
     "execution_count": 12,
     "metadata": {},
     "output_type": "execute_result"
    }
   ],
   "source": [
    "p1.Staking_ratio "
   ]
  },
  {
   "cell_type": "code",
   "execution_count": 13,
   "metadata": {},
   "outputs": [
    {
     "data": {
      "text/plain": [
       "{'name': 'Operator',\n",
       " 'balance': 0.0,\n",
       " 'delegated': 0.0,\n",
       " 'delegators': [],\n",
       " 'supported_power': 0,\n",
       " 'power_supporters': {},\n",
       " 'delegatees': ['Operator', 'User'],\n",
       " 'delegated_balances': {'Operator': 0.0, 'User': 1189999921.673901}}"
      ]
     },
     "execution_count": 13,
     "metadata": {},
     "output_type": "execute_result"
    }
   ],
   "source": [
    "asdict(p1.Operators[\"Operator\"])"
   ]
  },
  {
   "cell_type": "code",
   "execution_count": 14,
   "metadata": {},
   "outputs": [],
   "source": [
    "p2.add_user(\"Operator\", OMD)\n",
    "p2.add_user(\"User\", p2.INITIAL_SUPPLY - OMD)\n",
    "p2.add_operator(\"Operator\")\n",
    "p2.delegate(\"User\", \"Operator\", 999000000)"
   ]
  },
  {
   "cell_type": "code",
   "execution_count": 15,
   "metadata": {},
   "outputs": [],
   "source": [
    "p2._update_ton()"
   ]
  },
  {
   "cell_type": "code",
   "execution_count": 16,
   "metadata": {},
   "outputs": [],
   "source": [
    "# Override Supply\n",
    "p2.Users['User'].delegated = p2.INITIAL_SUPPLY\n",
    "p2.Operators['Operator'].delegated_balances['User'] = p2.INITIAL_SUPPLY\n",
    "p2.Operators['Operator'].delegated = 0\n",
    "p2.Operators['Operator'].delegated_balances['Operator'] = 0"
   ]
  },
  {
   "cell_type": "code",
   "execution_count": 17,
   "metadata": {},
   "outputs": [
    {
     "data": {
      "text/plain": [
       "{'User': User(name='User', balance=0.0, delegated=1000000000)}"
      ]
     },
     "execution_count": 17,
     "metadata": {},
     "output_type": "execute_result"
    }
   ],
   "source": [
    "p2.Users"
   ]
  },
  {
   "cell_type": "code",
   "execution_count": 18,
   "metadata": {},
   "outputs": [
    {
     "data": {
      "text/plain": [
       "{'Operator': Operator(name='Operator', balance=0.0, delegated=0, supported_power=0, power_supporters={}, delegatees=['Operator', 'User'], delegated_balances={'Operator': 0, 'User': 1000000000})}"
      ]
     },
     "execution_count": 18,
     "metadata": {},
     "output_type": "execute_result"
    }
   ],
   "source": [
    "p2.Operators"
   ]
  },
  {
   "cell_type": "code",
   "execution_count": 19,
   "metadata": {},
   "outputs": [],
   "source": [
    "p2_o = asdict(p2.Operators[\"Operator\"])\n",
    "p2_u = asdict(p2.Users[\"User\"])"
   ]
  },
  {
   "cell_type": "code",
   "execution_count": 20,
   "metadata": {},
   "outputs": [
    {
     "data": {
      "text/plain": [
       "{'name': 'Operator',\n",
       " 'balance': 0.0,\n",
       " 'delegated': 0,\n",
       " 'delegators': [],\n",
       " 'supported_power': 0,\n",
       " 'power_supporters': {},\n",
       " 'delegatees': ['Operator', 'User'],\n",
       " 'delegated_balances': {'Operator': 0, 'User': 1000000000}}"
      ]
     },
     "execution_count": 20,
     "metadata": {},
     "output_type": "execute_result"
    }
   ],
   "source": [
    "p2_o"
   ]
  },
  {
   "cell_type": "code",
   "execution_count": 21,
   "metadata": {},
   "outputs": [
    {
     "data": {
      "text/plain": [
       "True"
      ]
     },
     "execution_count": 21,
     "metadata": {},
     "output_type": "execute_result"
    }
   ],
   "source": [
    "p2.Total_TON_supply == p2_o['delegated'] + p2_u['delegated']"
   ]
  },
  {
   "cell_type": "code",
   "execution_count": 22,
   "metadata": {},
   "outputs": [
    {
     "data": {
      "text/plain": [
       "1.0"
      ]
     },
     "execution_count": 22,
     "metadata": {},
     "output_type": "execute_result"
    }
   ],
   "source": [
    "p2.Staking_ratio"
   ]
  },
  {
   "cell_type": "code",
   "execution_count": 23,
   "metadata": {},
   "outputs": [
    {
     "data": {
      "text/plain": [
       "(False, False)"
      ]
     },
     "execution_count": 23,
     "metadata": {},
     "output_type": "execute_result"
    }
   ],
   "source": [
    "p2._update_ton()\n",
    "p2.wrap(p2.BLOCKS_YEAR)\n",
    "p2.commit(\"Operator\")"
   ]
  },
  {
   "cell_type": "code",
   "execution_count": 24,
   "metadata": {},
   "outputs": [
    {
     "data": {
      "text/plain": [
       "1.0"
      ]
     },
     "execution_count": 24,
     "metadata": {},
     "output_type": "execute_result"
    }
   ],
   "source": [
    "p2.Staking_ratio "
   ]
  },
  {
   "cell_type": "code",
   "execution_count": 25,
   "metadata": {},
   "outputs": [
    {
     "data": {
      "text/plain": [
       "{'name': 'Operator',\n",
       " 'balance': 0.0,\n",
       " 'delegated': 0.0,\n",
       " 'delegators': [],\n",
       " 'supported_power': 0,\n",
       " 'power_supporters': {},\n",
       " 'delegatees': ['Operator', 'User'],\n",
       " 'delegated_balances': {'Operator': 0.0, 'User': 1190000000.0}}"
      ]
     },
     "execution_count": 25,
     "metadata": {},
     "output_type": "execute_result"
    }
   ],
   "source": [
    "asdict(p2.Operators[\"Operator\"])"
   ]
  },
  {
   "cell_type": "code",
   "execution_count": 26,
   "metadata": {},
   "outputs": [],
   "source": [
    "compare_list = [\"Current_block\", \n",
    "                \"Last_committed\",\n",
    "                \"Total_TON_supply\",\n",
    "                \"Total_TON_staked\",\n",
    "                \"Staking_ratio\",\n",
    "                \"Prize_pool\",\n",
    "                \"Airdrop_pool\"]"
   ]
  },
  {
   "cell_type": "code",
   "execution_count": 27,
   "metadata": {},
   "outputs": [
    {
     "data": {
      "text/html": [
       "<div>\n",
       "<style scoped>\n",
       "    .dataframe tbody tr th:only-of-type {\n",
       "        vertical-align: middle;\n",
       "    }\n",
       "\n",
       "    .dataframe tbody tr th {\n",
       "        vertical-align: top;\n",
       "    }\n",
       "\n",
       "    .dataframe thead th {\n",
       "        text-align: right;\n",
       "    }\n",
       "</style>\n",
       "<table border=\"1\" class=\"dataframe\">\n",
       "  <thead>\n",
       "    <tr style=\"text-align: right;\">\n",
       "      <th></th>\n",
       "      <th>every_commit</th>\n",
       "      <th>one_commit</th>\n",
       "      <th>diff</th>\n",
       "    </tr>\n",
       "  </thead>\n",
       "  <tbody>\n",
       "    <tr>\n",
       "      <td>Current_block</td>\n",
       "      <td>2425846.000000000000000000</td>\n",
       "      <td>2425846.000000000000000000</td>\n",
       "      <td>0.000000000000000000</td>\n",
       "    </tr>\n",
       "    <tr>\n",
       "      <td>Last_committed</td>\n",
       "      <td>2425845.000000000000000000</td>\n",
       "      <td>2425846.000000000000000000</td>\n",
       "      <td>-1.000000000000000000</td>\n",
       "    </tr>\n",
       "    <tr>\n",
       "      <td>Total_TON_supply</td>\n",
       "      <td>1189999921.673901081085205078</td>\n",
       "      <td>1190000000.000000000000000000</td>\n",
       "      <td>-78.326098918914794922</td>\n",
       "    </tr>\n",
       "    <tr>\n",
       "      <td>Total_TON_staked</td>\n",
       "      <td>1189999921.673901081085205078</td>\n",
       "      <td>1190000000.000000000000000000</td>\n",
       "      <td>-78.326098918914794922</td>\n",
       "    </tr>\n",
       "    <tr>\n",
       "      <td>Staking_ratio</td>\n",
       "      <td>1.000000000000000000</td>\n",
       "      <td>1.000000000000000000</td>\n",
       "      <td>0.000000000000000000</td>\n",
       "    </tr>\n",
       "    <tr>\n",
       "      <td>Prize_pool</td>\n",
       "      <td>0.000000000000000000</td>\n",
       "      <td>0.000000000000000000</td>\n",
       "      <td>0.000000000000000000</td>\n",
       "    </tr>\n",
       "    <tr>\n",
       "      <td>Airdrop_pool</td>\n",
       "      <td>0.000000000000000000</td>\n",
       "      <td>0.000000000000000000</td>\n",
       "      <td>0.000000000000000000</td>\n",
       "    </tr>\n",
       "  </tbody>\n",
       "</table>\n",
       "</div>"
      ],
      "text/plain": [
       "                                  every_commit                    one_commit  \\\n",
       "Current_block       2425846.000000000000000000    2425846.000000000000000000   \n",
       "Last_committed      2425845.000000000000000000    2425846.000000000000000000   \n",
       "Total_TON_supply 1189999921.673901081085205078 1190000000.000000000000000000   \n",
       "Total_TON_staked 1189999921.673901081085205078 1190000000.000000000000000000   \n",
       "Staking_ratio             1.000000000000000000          1.000000000000000000   \n",
       "Prize_pool                0.000000000000000000          0.000000000000000000   \n",
       "Airdrop_pool              0.000000000000000000          0.000000000000000000   \n",
       "\n",
       "                                   diff  \n",
       "Current_block      0.000000000000000000  \n",
       "Last_committed    -1.000000000000000000  \n",
       "Total_TON_supply -78.326098918914794922  \n",
       "Total_TON_staked -78.326098918914794922  \n",
       "Staking_ratio      0.000000000000000000  \n",
       "Prize_pool         0.000000000000000000  \n",
       "Airdrop_pool       0.000000000000000000  "
      ]
     },
     "execution_count": 27,
     "metadata": {},
     "output_type": "execute_result"
    }
   ],
   "source": [
    "data = {}\n",
    "for col in compare_list:\n",
    "    _p1 = eval(\"p1.{}\".format(col))\n",
    "    _p2 = eval(\"p2.{}\".format(col))\n",
    "    _diff = _p1 - _p2\n",
    "    data[col] = {\"every_commit\": _p1, \"one_commit\" : _p2}\n",
    "\n",
    "df = pd.DataFrame(data).T\n",
    "df['diff'] = df['every_commit'] - df['one_commit']\n",
    "\n",
    "df"
   ]
  },
  {
   "cell_type": "markdown",
   "metadata": {},
   "source": [
    "## Seigniorage Calculation Two Staker\n",
    "\n",
    "`User` and `Operator` staked 50:50 of Total Staked TON"
   ]
  },
  {
   "cell_type": "code",
   "execution_count": 28,
   "metadata": {},
   "outputs": [],
   "source": [
    "p1 = Powerton()\n",
    "p2 = Powerton()\n",
    "\n",
    "# set to No winning chance\n",
    "p1.AIRDROP_CHANCE = -1\n",
    "p1.WINNING_CHANCE = -1\n",
    "\n",
    "p2.AIRDROP_CHANCE = -1\n",
    "p2.WINNING_CHANCE = -1"
   ]
  },
  {
   "cell_type": "code",
   "execution_count": 29,
   "metadata": {},
   "outputs": [],
   "source": [
    "# Add Participant\n",
    "p1.add_user(\"Operator\", OMD)\n",
    "p1.add_user(\"User\", p1.INITIAL_SUPPLY - OMD)\n",
    "p1.add_operator(\"Operator\")\n",
    "p1.delegate(\"User\", \"Operator\", 999000000)"
   ]
  },
  {
   "cell_type": "code",
   "execution_count": 30,
   "metadata": {},
   "outputs": [],
   "source": [
    "# Override TON balance\n",
    "# Only `User` has all TON\n",
    "p1.Users['User'].delegated = p1.INITIAL_SUPPLY / 2\n",
    "p1.Operators['Operator'].delegated_balances['User'] = p1.INITIAL_SUPPLY / 2\n",
    "p1.Operators['Operator'].delegated = p1.INITIAL_SUPPLY / 2\n",
    "p1.Operators['Operator'].delegated_balances['Operator'] = p1.INITIAL_SUPPLY / 2"
   ]
  },
  {
   "cell_type": "code",
   "execution_count": 31,
   "metadata": {},
   "outputs": [
    {
     "data": {
      "text/plain": [
       "{'name': 'User', 'balance': 0.0, 'delegated': 500000000.0, 'delegators': []}"
      ]
     },
     "execution_count": 31,
     "metadata": {},
     "output_type": "execute_result"
    }
   ],
   "source": [
    "asdict(p1.Users['User'])"
   ]
  },
  {
   "cell_type": "code",
   "execution_count": 32,
   "metadata": {},
   "outputs": [
    {
     "data": {
      "text/plain": [
       "{'name': 'Operator',\n",
       " 'balance': 0.0,\n",
       " 'delegated': 500000000.0,\n",
       " 'delegators': [],\n",
       " 'supported_power': 0,\n",
       " 'power_supporters': {},\n",
       " 'delegatees': ['Operator', 'User'],\n",
       " 'delegated_balances': {'Operator': 500000000.0, 'User': 500000000.0}}"
      ]
     },
     "execution_count": 32,
     "metadata": {},
     "output_type": "execute_result"
    }
   ],
   "source": [
    "asdict(p1.Operators['Operator'])"
   ]
  },
  {
   "cell_type": "code",
   "execution_count": 33,
   "metadata": {},
   "outputs": [],
   "source": [
    "p1_o = asdict(p1.Operators[\"Operator\"])\n",
    "p1_u = asdict(p1.Users[\"User\"])\n",
    "\n",
    "p1.Total_TON_supply == p1_o['delegated'] + p1_u['delegated']\n",
    "\n",
    "p1._update_ton()"
   ]
  },
  {
   "cell_type": "code",
   "execution_count": 34,
   "metadata": {},
   "outputs": [],
   "source": [
    "for i in range(p1.BLOCKS_YEAR): # 1 Year estimated block\n",
    "    p1.commit(\"Operator\")\n",
    "    p1.wrap()\n",
    "\n",
    "p2._update_ton()"
   ]
  },
  {
   "cell_type": "code",
   "execution_count": 35,
   "metadata": {},
   "outputs": [
    {
     "data": {
      "text/plain": [
       "1.0"
      ]
     },
     "execution_count": 35,
     "metadata": {},
     "output_type": "execute_result"
    }
   ],
   "source": [
    "p1.Staking_ratio"
   ]
  },
  {
   "cell_type": "code",
   "execution_count": 36,
   "metadata": {},
   "outputs": [],
   "source": [
    "p2.add_user(\"Operator\", OMD)\n",
    "p2.add_user(\"User\", p2.INITIAL_SUPPLY - OMD)\n",
    "p2.add_operator(\"Operator\")\n",
    "p2.delegate(\"User\", \"Operator\", 999000000)"
   ]
  },
  {
   "cell_type": "code",
   "execution_count": 37,
   "metadata": {},
   "outputs": [],
   "source": [
    "# Override TON balance\n",
    "# Only `User` has all TON\n",
    "p2.Users['User'].delegated = p2.INITIAL_SUPPLY / 2\n",
    "p2.Operators['Operator'].delegated_balances['User'] = p1.INITIAL_SUPPLY / 2\n",
    "p2.Operators['Operator'].delegated = p2.INITIAL_SUPPLY / 2\n",
    "p2.Operators['Operator'].delegated_balances['Operator'] = p1.INITIAL_SUPPLY / 2"
   ]
  },
  {
   "cell_type": "code",
   "execution_count": 38,
   "metadata": {},
   "outputs": [
    {
     "data": {
      "text/plain": [
       "(False, False)"
      ]
     },
     "execution_count": 38,
     "metadata": {},
     "output_type": "execute_result"
    }
   ],
   "source": [
    "p2._update_ton()\n",
    "p2.wrap(p2.BLOCKS_YEAR)\n",
    "p2.commit(\"Operator\")"
   ]
  },
  {
   "cell_type": "code",
   "execution_count": 39,
   "metadata": {},
   "outputs": [
    {
     "data": {
      "text/plain": [
       "{'name': 'Operator',\n",
       " 'balance': 0.0,\n",
       " 'delegated': 595000000.0,\n",
       " 'delegators': [],\n",
       " 'supported_power': 0,\n",
       " 'power_supporters': {},\n",
       " 'delegatees': ['Operator', 'User'],\n",
       " 'delegated_balances': {'Operator': 595000000.0, 'User': 595000000.0}}"
      ]
     },
     "execution_count": 39,
     "metadata": {},
     "output_type": "execute_result"
    }
   ],
   "source": [
    "asdict(p2.Operators[\"Operator\"])"
   ]
  },
  {
   "cell_type": "code",
   "execution_count": 40,
   "metadata": {},
   "outputs": [
    {
     "data": {
      "text/html": [
       "<div>\n",
       "<style scoped>\n",
       "    .dataframe tbody tr th:only-of-type {\n",
       "        vertical-align: middle;\n",
       "    }\n",
       "\n",
       "    .dataframe tbody tr th {\n",
       "        vertical-align: top;\n",
       "    }\n",
       "\n",
       "    .dataframe thead th {\n",
       "        text-align: right;\n",
       "    }\n",
       "</style>\n",
       "<table border=\"1\" class=\"dataframe\">\n",
       "  <thead>\n",
       "    <tr style=\"text-align: right;\">\n",
       "      <th></th>\n",
       "      <th>every_commit</th>\n",
       "      <th>one_commit</th>\n",
       "      <th>diff</th>\n",
       "    </tr>\n",
       "  </thead>\n",
       "  <tbody>\n",
       "    <tr>\n",
       "      <td>Current_block</td>\n",
       "      <td>2425846.000000000000000000</td>\n",
       "      <td>2425846.000000000000000000</td>\n",
       "      <td>0.000000000000000000</td>\n",
       "    </tr>\n",
       "    <tr>\n",
       "      <td>Last_committed</td>\n",
       "      <td>2425845.000000000000000000</td>\n",
       "      <td>2425846.000000000000000000</td>\n",
       "      <td>-1.000000000000000000</td>\n",
       "    </tr>\n",
       "    <tr>\n",
       "      <td>Total_TON_supply</td>\n",
       "      <td>1189999921.673901081085205078</td>\n",
       "      <td>1190000000.000000000000000000</td>\n",
       "      <td>-78.326098918914794922</td>\n",
       "    </tr>\n",
       "    <tr>\n",
       "      <td>Total_TON_staked</td>\n",
       "      <td>1189999921.673901081085205078</td>\n",
       "      <td>1190000000.000000000000000000</td>\n",
       "      <td>-78.326098918914794922</td>\n",
       "    </tr>\n",
       "    <tr>\n",
       "      <td>Staking_ratio</td>\n",
       "      <td>1.000000000000000000</td>\n",
       "      <td>1.000000000000000000</td>\n",
       "      <td>0.000000000000000000</td>\n",
       "    </tr>\n",
       "    <tr>\n",
       "      <td>Prize_pool</td>\n",
       "      <td>0.000000000000000000</td>\n",
       "      <td>0.000000000000000000</td>\n",
       "      <td>0.000000000000000000</td>\n",
       "    </tr>\n",
       "    <tr>\n",
       "      <td>Airdrop_pool</td>\n",
       "      <td>0.000000000000000000</td>\n",
       "      <td>0.000000000000000000</td>\n",
       "      <td>0.000000000000000000</td>\n",
       "    </tr>\n",
       "  </tbody>\n",
       "</table>\n",
       "</div>"
      ],
      "text/plain": [
       "                                  every_commit                    one_commit  \\\n",
       "Current_block       2425846.000000000000000000    2425846.000000000000000000   \n",
       "Last_committed      2425845.000000000000000000    2425846.000000000000000000   \n",
       "Total_TON_supply 1189999921.673901081085205078 1190000000.000000000000000000   \n",
       "Total_TON_staked 1189999921.673901081085205078 1190000000.000000000000000000   \n",
       "Staking_ratio             1.000000000000000000          1.000000000000000000   \n",
       "Prize_pool                0.000000000000000000          0.000000000000000000   \n",
       "Airdrop_pool              0.000000000000000000          0.000000000000000000   \n",
       "\n",
       "                                   diff  \n",
       "Current_block      0.000000000000000000  \n",
       "Last_committed    -1.000000000000000000  \n",
       "Total_TON_supply -78.326098918914794922  \n",
       "Total_TON_staked -78.326098918914794922  \n",
       "Staking_ratio      0.000000000000000000  \n",
       "Prize_pool         0.000000000000000000  \n",
       "Airdrop_pool       0.000000000000000000  "
      ]
     },
     "execution_count": 40,
     "metadata": {},
     "output_type": "execute_result"
    }
   ],
   "source": [
    "data = {}\n",
    "for col in compare_list:\n",
    "    _p1 = eval(\"p1.{}\".format(col))\n",
    "    _p2 = eval(\"p2.{}\".format(col))\n",
    "    _diff = _p1 - _p2\n",
    "    data[col] = {\"every_commit\": _p1, \"one_commit\" : _p2}\n",
    "\n",
    "df = pd.DataFrame(data).T\n",
    "df['diff'] = df['every_commit'] - df['one_commit']\n",
    "\n",
    "df"
   ]
  }
 ],
 "metadata": {
  "kernelspec": {
   "display_name": "Python 3",
   "language": "python",
   "name": "python3"
  },
  "language_info": {
   "codemirror_mode": {
    "name": "ipython",
    "version": 3
   },
   "file_extension": ".py",
   "mimetype": "text/x-python",
   "name": "python",
   "nbconvert_exporter": "python",
   "pygments_lexer": "ipython3",
   "version": "3.7.4"
  }
 },
 "nbformat": 4,
 "nbformat_minor": 4
}
