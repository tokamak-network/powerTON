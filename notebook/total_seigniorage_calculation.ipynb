{
 "cells": [
  {
   "cell_type": "markdown",
   "metadata": {},
   "source": [
    "# Total Seigniorage Calculation\n",
    "\n",
    "How much seigniorage generated in case of `one commit` and `every commit` in same blocks\n",
    "\n",
    "`p1 case - every commit in blocks` \n",
    "```\n",
    "blocks  :  1...2...3..  ...2425845...2425846\n",
    "commits : c1, c2, c3,.. ..c2425845, c2425846\n",
    "```\n",
    "`p2 case - one commit in blocks` \n",
    "```\n",
    "blocks  :  1...2...3..  ...2425845...2425846\n",
    "commits :                                 c1\n",
    "```"
   ]
  },
  {
   "cell_type": "code",
   "execution_count": null,
   "metadata": {},
   "outputs": [],
   "source": [
    "from typing import List\n",
    "from random import random, randrange\n",
    "from dataclasses import asdict\n",
    "\n",
    "import names\n",
    "from powerton import User, Operator, Player, Powerton, OMD\n",
    "\n",
    "import pandas as pd\n",
    "pd.options.display.float_format = '{:.18f}'.format\n",
    "\n",
    "p1 = Powerton()\n",
    "p2 = Powerton()\n",
    "\n",
    "# set to No winning chance\n",
    "p1.AIRDROP_CHANCE = -1\n",
    "p1.WINNING_CHANCE = -1\n",
    "\n",
    "p2.AIRDROP_CHANCE = -1\n",
    "p2.WINNING_CHANCE = -1"
   ]
  },
  {
   "cell_type": "code",
   "execution_count": 2,
   "metadata": {},
   "outputs": [],
   "source": [
    "p1.add_user(\"Operator\", OMD)\n",
    "p1.add_user(\"User\", p1.INITIAL_SUPPLY - OMD)\n",
    "p1.add_operator(\"Operator\")\n",
    "p1.delegate(\"User\", \"Operator\", 999000000)"
   ]
  },
  {
   "cell_type": "code",
   "execution_count": 3,
   "metadata": {},
   "outputs": [
    {
     "data": {
      "text/plain": [
       "{'name': 'Operator',\n",
       " 'balance': 0.0,\n",
       " 'delegated': 1000000.0,\n",
       " 'delegators': [],\n",
       " 'total_supported_power': 0,\n",
       " 'power_supporters': {},\n",
       " 'delegatees': ['Operator', 'User'],\n",
       " 'delegated_balances': {'Operator': 1000000, 'User': 999000000}}"
      ]
     },
     "execution_count": 3,
     "metadata": {},
     "output_type": "execute_result"
    }
   ],
   "source": [
    "asdict(p1.Operators[\"Operator\"])"
   ]
  },
  {
   "cell_type": "code",
   "execution_count": 4,
   "metadata": {},
   "outputs": [],
   "source": [
    "p1._update_ton()"
   ]
  },
  {
   "cell_type": "code",
   "execution_count": 5,
   "metadata": {},
   "outputs": [],
   "source": [
    "p1_o = asdict(p1.Operators[\"Operator\"])\n",
    "p1_u = asdict(p1.Users[\"User\"])"
   ]
  },
  {
   "cell_type": "code",
   "execution_count": 6,
   "metadata": {},
   "outputs": [
    {
     "data": {
      "text/plain": [
       "True"
      ]
     },
     "execution_count": 6,
     "metadata": {},
     "output_type": "execute_result"
    }
   ],
   "source": [
    "p1.Total_TON_supply == p1_o['delegated'] + p1_u['delegated']"
   ]
  },
  {
   "cell_type": "code",
   "execution_count": 7,
   "metadata": {},
   "outputs": [
    {
     "data": {
      "text/plain": [
       "1.0"
      ]
     },
     "execution_count": 7,
     "metadata": {},
     "output_type": "execute_result"
    }
   ],
   "source": [
    "p1.Staking_ratio"
   ]
  },
  {
   "cell_type": "code",
   "execution_count": 8,
   "metadata": {},
   "outputs": [],
   "source": [
    "for i in range(p1.BLOCKS_YEAR): # 1 Year estimated block\n",
    "    p1.commit(\"Operator\")\n",
    "    p1.wrap()\n",
    "\n",
    "p2._update_ton()"
   ]
  },
  {
   "cell_type": "code",
   "execution_count": 9,
   "metadata": {},
   "outputs": [
    {
     "data": {
      "text/plain": [
       "0.9999202374342077"
      ]
     },
     "execution_count": 9,
     "metadata": {},
     "output_type": "execute_result"
    }
   ],
   "source": [
    "p1.Staking_ratio "
   ]
  },
  {
   "cell_type": "code",
   "execution_count": 10,
   "metadata": {},
   "outputs": [
    {
     "data": {
      "text/plain": [
       "{'name': 'Operator',\n",
       " 'balance': 0.0,\n",
       " 'delegated': 1190008.4092937226,\n",
       " 'delegators': [],\n",
       " 'total_supported_power': 0,\n",
       " 'power_supporters': {},\n",
       " 'delegatees': ['Operator', 'User'],\n",
       " 'delegated_balances': {'Operator': 1190008.4092937226,\n",
       "  'User': 1188611593.6016486}}"
      ]
     },
     "execution_count": 10,
     "metadata": {},
     "output_type": "execute_result"
    }
   ],
   "source": [
    "asdict(p1.Operators[\"Operator\"])"
   ]
  },
  {
   "cell_type": "code",
   "execution_count": 11,
   "metadata": {},
   "outputs": [],
   "source": [
    "p2.add_user(\"Operator\", OMD)\n",
    "p2.add_user(\"User\", p2.INITIAL_SUPPLY - OMD)\n",
    "p2.add_operator(\"Operator\")\n",
    "p2.delegate(\"User\", \"Operator\", 999000000)"
   ]
  },
  {
   "cell_type": "code",
   "execution_count": 12,
   "metadata": {},
   "outputs": [],
   "source": [
    "p2._update_ton()"
   ]
  },
  {
   "cell_type": "code",
   "execution_count": 13,
   "metadata": {},
   "outputs": [],
   "source": [
    "p2_o = asdict(p2.Operators[\"Operator\"])\n",
    "p2_u = asdict(p2.Users[\"User\"])"
   ]
  },
  {
   "cell_type": "code",
   "execution_count": 14,
   "metadata": {},
   "outputs": [
    {
     "data": {
      "text/plain": [
       "{'name': 'Operator',\n",
       " 'balance': 0.0,\n",
       " 'delegated': 1000000.0,\n",
       " 'delegators': [],\n",
       " 'total_supported_power': 0,\n",
       " 'power_supporters': {},\n",
       " 'delegatees': ['Operator', 'User'],\n",
       " 'delegated_balances': {'Operator': 1000000.0, 'User': 999000000.0}}"
      ]
     },
     "execution_count": 14,
     "metadata": {},
     "output_type": "execute_result"
    }
   ],
   "source": [
    "p2_o"
   ]
  },
  {
   "cell_type": "code",
   "execution_count": 15,
   "metadata": {},
   "outputs": [
    {
     "data": {
      "text/plain": [
       "True"
      ]
     },
     "execution_count": 15,
     "metadata": {},
     "output_type": "execute_result"
    }
   ],
   "source": [
    "p2.Total_TON_supply == p2_o['delegated'] + p2_u['delegated']"
   ]
  },
  {
   "cell_type": "code",
   "execution_count": 16,
   "metadata": {},
   "outputs": [
    {
     "data": {
      "text/plain": [
       "1.0"
      ]
     },
     "execution_count": 16,
     "metadata": {},
     "output_type": "execute_result"
    }
   ],
   "source": [
    "p2.Staking_ratio"
   ]
  },
  {
   "cell_type": "code",
   "execution_count": 17,
   "metadata": {},
   "outputs": [
    {
     "data": {
      "text/plain": [
       "(False, False)"
      ]
     },
     "execution_count": 17,
     "metadata": {},
     "output_type": "execute_result"
    }
   ],
   "source": [
    "p2._update_ton()\n",
    "p2.wrap(p2.BLOCKS_YEAR)\n",
    "p2.commit(\"Operator\")"
   ]
  },
  {
   "cell_type": "code",
   "execution_count": 18,
   "metadata": {},
   "outputs": [
    {
     "data": {
      "text/plain": [
       "0.9999051040242848"
      ]
     },
     "execution_count": 18,
     "metadata": {},
     "output_type": "execute_result"
    }
   ],
   "source": [
    "p2.Staking_ratio "
   ]
  },
  {
   "cell_type": "code",
   "execution_count": 19,
   "metadata": {},
   "outputs": [
    {
     "data": {
      "text/plain": [
       "{'name': 'Operator',\n",
       " 'balance': 0.0,\n",
       " 'delegated': 1189999.9996954992,\n",
       " 'delegators': [],\n",
       " 'total_supported_power': 0,\n",
       " 'power_supporters': {},\n",
       " 'delegatees': ['Operator', 'User'],\n",
       " 'delegated_balances': {'Operator': 1189999.9996954992,\n",
       "  'User': 1188584168.7041118}}"
      ]
     },
     "execution_count": 19,
     "metadata": {},
     "output_type": "execute_result"
    }
   ],
   "source": [
    "asdict(p2.Operators[\"Operator\"])"
   ]
  },
  {
   "cell_type": "code",
   "execution_count": 20,
   "metadata": {},
   "outputs": [],
   "source": [
    "compare_list = [\"Current_block\", \n",
    "                \"Last_committed\",\n",
    "                \"Total_TON_supply\",\n",
    "                \"Total_TON_staked\",\n",
    "                \"Staking_ratio\",\n",
    "                \"Prize_pool\",\n",
    "                \"Airdrop_pool\"]"
   ]
  },
  {
   "cell_type": "code",
   "execution_count": 21,
   "metadata": {},
   "outputs": [],
   "source": [
    "data = {}\n",
    "for col in compare_list:\n",
    "    _p1 = eval(\"p1.{}\".format(col))\n",
    "    _p2 = eval(\"p2.{}\".format(col))\n",
    "    _diff = _p1 - _p2\n",
    "    data[col] = {\"every_commit\": _p1, \"one_commit\" : _p2}"
   ]
  },
  {
   "cell_type": "code",
   "execution_count": 22,
   "metadata": {},
   "outputs": [
    {
     "data": {
      "text/html": [
       "<div>\n",
       "<style scoped>\n",
       "    .dataframe tbody tr th:only-of-type {\n",
       "        vertical-align: middle;\n",
       "    }\n",
       "\n",
       "    .dataframe tbody tr th {\n",
       "        vertical-align: top;\n",
       "    }\n",
       "\n",
       "    .dataframe thead th {\n",
       "        text-align: right;\n",
       "    }\n",
       "</style>\n",
       "<table border=\"1\" class=\"dataframe\">\n",
       "  <thead>\n",
       "    <tr style=\"text-align: right;\">\n",
       "      <th></th>\n",
       "      <th>every_commit</th>\n",
       "      <th>one_commit</th>\n",
       "      <th>diff</th>\n",
       "    </tr>\n",
       "  </thead>\n",
       "  <tbody>\n",
       "    <tr>\n",
       "      <td>Current_block</td>\n",
       "      <td>2425846.000000000000000000</td>\n",
       "      <td>2425846.000000000000000000</td>\n",
       "      <td>0.000000000000000000</td>\n",
       "    </tr>\n",
       "    <tr>\n",
       "      <td>Last_committed</td>\n",
       "      <td>2425845.000000000000000000</td>\n",
       "      <td>2425846.000000000000000000</td>\n",
       "      <td>-1.000000000000000000</td>\n",
       "    </tr>\n",
       "    <tr>\n",
       "      <td>Total_TON_supply</td>\n",
       "      <td>1189896511.209711551666259766</td>\n",
       "      <td>1189887084.199653387069702148</td>\n",
       "      <td>9427.010058164596557617</td>\n",
       "    </tr>\n",
       "    <tr>\n",
       "      <td>Total_TON_staked</td>\n",
       "      <td>1189801602.010950088500976562</td>\n",
       "      <td>1189774168.703807353973388672</td>\n",
       "      <td>27433.307142734527587891</td>\n",
       "    </tr>\n",
       "    <tr>\n",
       "      <td>Staking_ratio</td>\n",
       "      <td>0.999920237434207659</td>\n",
       "      <td>0.999905104024284785</td>\n",
       "      <td>0.000015133409922874</td>\n",
       "    </tr>\n",
       "    <tr>\n",
       "      <td>Prize_pool</td>\n",
       "      <td>85418.278871962000266649</td>\n",
       "      <td>101623.946261335906456225</td>\n",
       "      <td>-16205.667389373906189576</td>\n",
       "    </tr>\n",
       "    <tr>\n",
       "      <td>Airdrop_pool</td>\n",
       "      <td>9490.919874662027723389</td>\n",
       "      <td>11291.549584592879909906</td>\n",
       "      <td>-1800.629709930852186517</td>\n",
       "    </tr>\n",
       "  </tbody>\n",
       "</table>\n",
       "</div>"
      ],
      "text/plain": [
       "                                  every_commit                    one_commit  \\\n",
       "Current_block       2425846.000000000000000000    2425846.000000000000000000   \n",
       "Last_committed      2425845.000000000000000000    2425846.000000000000000000   \n",
       "Total_TON_supply 1189896511.209711551666259766 1189887084.199653387069702148   \n",
       "Total_TON_staked 1189801602.010950088500976562 1189774168.703807353973388672   \n",
       "Staking_ratio             0.999920237434207659          0.999905104024284785   \n",
       "Prize_pool            85418.278871962000266649     101623.946261335906456225   \n",
       "Airdrop_pool           9490.919874662027723389      11291.549584592879909906   \n",
       "\n",
       "                                      diff  \n",
       "Current_block         0.000000000000000000  \n",
       "Last_committed       -1.000000000000000000  \n",
       "Total_TON_supply   9427.010058164596557617  \n",
       "Total_TON_staked  27433.307142734527587891  \n",
       "Staking_ratio         0.000015133409922874  \n",
       "Prize_pool       -16205.667389373906189576  \n",
       "Airdrop_pool      -1800.629709930852186517  "
      ]
     },
     "execution_count": 22,
     "metadata": {},
     "output_type": "execute_result"
    }
   ],
   "source": [
    "df = pd.DataFrame(data).T\n",
    "df['diff'] = df['every_commit'] - df['one_commit']\n",
    "\n",
    "df"
   ]
  },
  {
   "cell_type": "code",
   "execution_count": null,
   "metadata": {},
   "outputs": [],
   "source": []
  }
 ],
 "metadata": {
  "kernelspec": {
   "display_name": "Python 3",
   "language": "python",
   "name": "python3"
  },
  "language_info": {
   "codemirror_mode": {
    "name": "ipython",
    "version": 3
   },
   "file_extension": ".py",
   "mimetype": "text/x-python",
   "name": "python",
   "nbconvert_exporter": "python",
   "pygments_lexer": "ipython3",
   "version": "3.7.4"
  }
 },
 "nbformat": 4,
 "nbformat_minor": 4
}
