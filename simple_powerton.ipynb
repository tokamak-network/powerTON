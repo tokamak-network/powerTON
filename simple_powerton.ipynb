{
 "cells": [
  {
   "cell_type": "markdown",
   "metadata": {},
   "source": [
    "# Power TON\n",
    "\n",
    "Staking Game of TON.\n",
    "\n",
    "simple usage for basic Powerton class.\n",
    "\n",
    "## Staking & Earn Seign Example\n",
    "\n",
    "Only registered user can be Operator or Player.\n",
    "\n",
    "User or Player can delegate his/her TON to Operator.\n",
    "\n",
    "Doing Compare 1 commit per block VS 1 commit per 2425846 block(1 year)"
   ]
  },
  {
   "cell_type": "code",
   "execution_count": 1,
   "metadata": {},
   "outputs": [],
   "source": [
    "from typing import List\n",
    "from random import random, randrange\n",
    "from dataclasses import asdict\n",
    "\n",
    "import names\n",
    "from powerton import User, Operator, Player, Powerton, OMD\n",
    "p = Powerton()\n",
    "p2 = Powerton()"
   ]
  },
  {
   "cell_type": "code",
   "execution_count": 2,
   "metadata": {},
   "outputs": [
    {
     "data": {
      "text/plain": [
       "{'SEIGNIORAGE': 0.19,\n",
       " 'BLOCK_TIME': 13,\n",
       " 'BLOCKS_YEAR': 2425846,\n",
       " 'INITIAL_SUPPLY': 1000000000,\n",
       " 'SEIG_PER_BLOCK': 7.17083085133e-08,\n",
       " 'AIRDROP_RATIO': 0.1,\n",
       " 'AIRDROP_CHANCE': 0.0001,\n",
       " 'WINNING_CHANCE': 1e-10,\n",
       " 'Users': {},\n",
       " 'Operators': {},\n",
       " 'Players': {},\n",
       " 'Total_TON_supply': 0,\n",
       " 'Total_TON_staked': 0,\n",
       " 'Staking_ratio': 0,\n",
       " 'POWER_WIN_CHANCE': 1e-06,\n",
       " 'POWER_PER_PHASE': 100000,\n",
       " 'MIN_PRIZE_POOL': 50000,\n",
       " 'MIN_POWER_PRICE': 0.0125,\n",
       " 'Winning_history': {},\n",
       " 'Current_power_phase': 0,\n",
       " 'Total_sold_powers': 0,\n",
       " 'Power_sale': {1: {'OPEN': False, 'AVAILABLE': 0, 'SOLD': 0, 'PRICE': 0.0125},\n",
       "  2: {'OPEN': False, 'AVAILABLE': 0, 'SOLD': 0, 'PRICE': 0.025},\n",
       "  3: {'OPEN': False, 'AVAILABLE': 0, 'SOLD': 0, 'PRICE': 0.05},\n",
       "  4: {'OPEN': False, 'AVAILABLE': 0, 'SOLD': 0, 'PRICE': 0.1},\n",
       "  5: {'OPEN': False, 'AVAILABLE': 0, 'SOLD': 0, 'PRICE': 0.2},\n",
       "  6: {'OPEN': False, 'AVAILABLE': 0, 'SOLD': 0, 'PRICE': 0.4},\n",
       "  7: {'OPEN': False, 'AVAILABLE': 0, 'SOLD': 0, 'PRICE': 0.8},\n",
       "  8: {'OPEN': False, 'AVAILABLE': 0, 'SOLD': 0, 'PRICE': 1.6},\n",
       "  9: {'OPEN': False, 'AVAILABLE': 0, 'SOLD': 0, 'PRICE': 3.2},\n",
       "  10: {'OPEN': False, 'AVAILABLE': 0, 'SOLD': 0, 'PRICE': 6.4},\n",
       "  11: {'OPEN': False, 'AVAILABLE': 0, 'SOLD': 0, 'PRICE': 12.8}},\n",
       " 'Prize_pool': 0,\n",
       " 'Airdrop_pool': 0,\n",
       " 'DIST_BUY_POWER': (0.5, 0.3, 0.2, 0),\n",
       " 'DIST_PRIZE': (0.5, 0.2, 0.2, 0.1),\n",
       " 'DIST_AIRDROP': (0.8, 0.2, 0, 0)}"
      ]
     },
     "execution_count": 2,
     "metadata": {},
     "output_type": "execute_result"
    }
   ],
   "source": [
    "asdict(p)"
   ]
  },
  {
   "cell_type": "code",
   "execution_count": 3,
   "metadata": {},
   "outputs": [],
   "source": [
    "# 100 users in game\n",
    "for i in range(10):\n",
    "    exist = True\n",
    "    while exist:\n",
    "        _name = names.get_first_name()\n",
    "        exist, [_, _, _] = p.check_name(_name)\n",
    "    \n",
    "    p.add_user(_name, 10_000)"
   ]
  },
  {
   "cell_type": "code",
   "execution_count": 4,
   "metadata": {},
   "outputs": [
    {
     "data": {
      "text/plain": [
       "{'Susana': User(name='Susana', balance=10000.0, delegated=0.0),\n",
       " 'Vincent': User(name='Vincent', balance=10000.0, delegated=0.0),\n",
       " 'Donald': User(name='Donald', balance=10000.0, delegated=0.0),\n",
       " 'Hayden': User(name='Hayden', balance=10000.0, delegated=0.0),\n",
       " 'Rita': User(name='Rita', balance=10000.0, delegated=0.0),\n",
       " 'Keeley': User(name='Keeley', balance=10000.0, delegated=0.0),\n",
       " 'William': User(name='William', balance=10000.0, delegated=0.0),\n",
       " 'Norma': User(name='Norma', balance=10000.0, delegated=0.0),\n",
       " 'Felisha': User(name='Felisha', balance=10000.0, delegated=0.0),\n",
       " 'George': User(name='George', balance=10000.0, delegated=0.0)}"
      ]
     },
     "execution_count": 4,
     "metadata": {},
     "output_type": "execute_result"
    }
   ],
   "source": [
    "p.Users"
   ]
  },
  {
   "cell_type": "code",
   "execution_count": 5,
   "metadata": {},
   "outputs": [
    {
     "data": {
      "text/plain": [
       "{'Susana': Operator(name='Susana', balance=10000.0, delegated=1000000.0, total_supported_power=0, power_supporters={}, delegatees=['Susana'], delegated_balances={'Susana': 1000000}),\n",
       " 'Vincent': Operator(name='Vincent', balance=10000.0, delegated=1000000.0, total_supported_power=0, power_supporters={}, delegatees=['Vincent'], delegated_balances={'Vincent': 1000000})}"
      ]
     },
     "execution_count": 5,
     "metadata": {},
     "output_type": "execute_result"
    }
   ],
   "source": [
    "###### Need Minimum deposit need for being Operator\n",
    "name_list = [u for u in p.Users.keys()]\n",
    "for name in name_list[:2]:\n",
    "    p.faucet(name, OMD)\n",
    "    p.add_operator(name)\n",
    "\n",
    "p.Operators"
   ]
  },
  {
   "cell_type": "code",
   "execution_count": 6,
   "metadata": {},
   "outputs": [
    {
     "data": {
      "text/plain": [
       "{'William': Player(name='William', balance=10000.0, delegated=0.0, power_bought=0, power_available=0, power_played=0, power_supporting=0, history={}),\n",
       " 'Norma': Player(name='Norma', balance=10000.0, delegated=0.0, power_bought=0, power_available=0, power_played=0, power_supporting=0, history={}),\n",
       " 'Felisha': Player(name='Felisha', balance=10000.0, delegated=0.0, power_bought=0, power_available=0, power_played=0, power_supporting=0, history={}),\n",
       " 'George': Player(name='George', balance=10000.0, delegated=0.0, power_bought=0, power_available=0, power_played=0, power_supporting=0, history={})}"
      ]
     },
     "execution_count": 6,
     "metadata": {},
     "output_type": "execute_result"
    }
   ],
   "source": [
    "for name in name_list[6:]:\n",
    "    p.add_player(name)\n",
    "\n",
    "p.Players"
   ]
  },
  {
   "cell_type": "code",
   "execution_count": 7,
   "metadata": {},
   "outputs": [
    {
     "data": {
      "text/plain": [
       "{'Donald': User(name='Donald', balance=10000.0, delegated=0.0),\n",
       " 'Hayden': User(name='Hayden', balance=10000.0, delegated=0.0),\n",
       " 'Rita': User(name='Rita', balance=10000.0, delegated=0.0),\n",
       " 'Keeley': User(name='Keeley', balance=10000.0, delegated=0.0)}"
      ]
     },
     "execution_count": 7,
     "metadata": {},
     "output_type": "execute_result"
    }
   ],
   "source": [
    "p.Users"
   ]
  },
  {
   "cell_type": "code",
   "execution_count": 8,
   "metadata": {},
   "outputs": [],
   "source": [
    "user_name = [u for u in p.Users.keys()]\n",
    "operator_name = [o for o in p.Operators.keys()]\n",
    "player_name = [p for p in p.Players.keys()]"
   ]
  },
  {
   "cell_type": "code",
   "execution_count": 9,
   "metadata": {},
   "outputs": [],
   "source": [
    "p.delegate(user_name[0], operator_name[0], 10000)\n",
    "p.delegate(user_name[1], operator_name[0], 10000)\n",
    "p.delegate(user_name[2], operator_name[1], 10000)\n",
    "p.delegate(user_name[3], operator_name[1], 10000)"
   ]
  },
  {
   "cell_type": "code",
   "execution_count": 10,
   "metadata": {},
   "outputs": [
    {
     "data": {
      "text/plain": [
       "{'name': 'Susana',\n",
       " 'balance': 10000.0,\n",
       " 'delegated': 1000000.0,\n",
       " 'delegators': [],\n",
       " 'total_supported_power': 0,\n",
       " 'power_supporters': {},\n",
       " 'delegatees': ['Susana', 'Donald', 'Hayden'],\n",
       " 'delegated_balances': {'Susana': 1000000, 'Donald': 10000, 'Hayden': 10000}}"
      ]
     },
     "execution_count": 10,
     "metadata": {},
     "output_type": "execute_result"
    }
   ],
   "source": [
    "asdict(p.Operators[operator_name[0]])"
   ]
  },
  {
   "cell_type": "code",
   "execution_count": 11,
   "metadata": {},
   "outputs": [
    {
     "name": "stdout",
     "output_type": "stream",
     "text": [
      "Won! Susana airdrop!\n",
      "Won! Susana airdrop!\n",
      "Won! Susana airdrop!\n",
      "Won! Susana airdrop!\n",
      "Won! Susana airdrop!\n",
      "Won! Susana airdrop!\n",
      "Won! Susana airdrop!\n",
      "Won! Susana airdrop!\n",
      "Won! Susana airdrop!\n",
      "Won! Susana airdrop!\n",
      "Won! Susana airdrop!\n",
      "Won! Susana airdrop!\n",
      "Won! Susana airdrop!\n",
      "Won! Susana airdrop!\n",
      "Won! Susana prize!\n",
      "Won! Susana airdrop!\n",
      "Won! Susana airdrop!\n",
      "Won! Susana airdrop!\n",
      "Won! Susana airdrop!\n",
      "Won! Susana airdrop!\n",
      "Won! Susana airdrop!\n",
      "Won! Susana airdrop!\n",
      "Won! Susana airdrop!\n",
      "Won! Susana airdrop!\n",
      "Won! Susana airdrop!\n",
      "Won! Susana airdrop!\n",
      "Won! Susana airdrop!\n",
      "Won! Susana airdrop!\n",
      "Won! Susana airdrop!\n",
      "Won! Susana airdrop!\n",
      "Won! Susana airdrop!\n",
      "Won! Susana airdrop!\n",
      "Won! Susana airdrop!\n",
      "Won! Susana airdrop!\n",
      "Won! Susana airdrop!\n",
      "Won! Susana airdrop!\n",
      "Won! Susana airdrop!\n",
      "Won! Susana airdrop!\n",
      "Won! Susana airdrop!\n",
      "Won! Susana airdrop!\n",
      "Won! Susana airdrop!\n",
      "Won! Susana airdrop!\n",
      "Won! Susana airdrop!\n",
      "Won! Susana airdrop!\n",
      "Won! Susana airdrop!\n",
      "Won! Susana airdrop!\n",
      "Won! Susana airdrop!\n",
      "Won! Susana airdrop!\n",
      "Won! Susana airdrop!\n",
      "Won! Susana airdrop!\n",
      "Won! Susana airdrop!\n",
      "Won! Susana airdrop!\n",
      "Won! Susana airdrop!\n",
      "Won! Susana airdrop!\n",
      "Won! Susana airdrop!\n",
      "Won! Susana airdrop!\n",
      "Won! Susana airdrop!\n",
      "Won! Susana airdrop!\n",
      "Won! Susana airdrop!\n",
      "Won! Susana airdrop!\n",
      "Won! Susana airdrop!\n",
      "Won! Susana airdrop!\n",
      "Won! Susana airdrop!\n",
      "Won! Susana airdrop!\n",
      "Won! Susana airdrop!\n",
      "Won! Susana prize!\n",
      "Won! Susana airdrop!\n",
      "Won! Susana airdrop!\n",
      "Won! Susana airdrop!\n",
      "Won! Susana airdrop!\n",
      "Won! Susana airdrop!\n",
      "Won! Susana airdrop!\n",
      "Won! Susana airdrop!\n",
      "Won! Susana airdrop!\n",
      "Won! Susana airdrop!\n",
      "Won! Susana airdrop!\n",
      "Won! Susana airdrop!\n",
      "Won! Susana airdrop!\n",
      "Won! Susana airdrop!\n",
      "Won! Susana airdrop!\n",
      "Won! Susana airdrop!\n",
      "Won! Susana airdrop!\n",
      "Won! Susana airdrop!\n",
      "Won! Susana airdrop!\n",
      "Won! Susana airdrop!\n",
      "Won! Susana airdrop!\n",
      "Won! Susana airdrop!\n",
      "Won! Susana airdrop!\n",
      "Won! Susana airdrop!\n",
      "Won! Susana airdrop!\n",
      "Won! Susana airdrop!\n",
      "Won! Susana airdrop!\n",
      "Won! Susana airdrop!\n",
      "Won! Susana airdrop!\n",
      "Won! Susana airdrop!\n",
      "Won! Susana airdrop!\n",
      "Won! Susana airdrop!\n",
      "Won! Susana airdrop!\n",
      "Won! Susana airdrop!\n",
      "Won! Susana airdrop!\n",
      "Won! Susana airdrop!\n",
      "Won! Susana airdrop!\n",
      "Won! Susana airdrop!\n",
      "Won! Susana airdrop!\n",
      "Won! Susana airdrop!\n",
      "Won! Susana airdrop!\n",
      "Won! Susana airdrop!\n",
      "Won! Susana airdrop!\n",
      "Won! Susana airdrop!\n",
      "Won! Susana airdrop!\n",
      "Won! Susana airdrop!\n",
      "Won! Susana airdrop!\n",
      "Won! Susana airdrop!\n",
      "Won! Susana airdrop!\n",
      "Won! Susana airdrop!\n",
      "Won! Susana airdrop!\n",
      "Won! Susana airdrop!\n",
      "Won! Susana airdrop!\n",
      "Won! Susana airdrop!\n",
      "Won! Susana airdrop!\n",
      "Won! Susana airdrop!\n",
      "Won! Susana airdrop!\n",
      "Won! Susana airdrop!\n",
      "Won! Susana airdrop!\n",
      "Won! Susana airdrop!\n",
      "Won! Susana airdrop!\n",
      "Won! Susana airdrop!\n",
      "Won! Susana airdrop!\n",
      "Won! Susana airdrop!\n",
      "Won! Susana airdrop!\n",
      "Won! Susana airdrop!\n",
      "Won! Susana airdrop!\n",
      "Won! Susana airdrop!\n",
      "Won! Susana airdrop!\n",
      "Won! Susana airdrop!\n",
      "Won! Susana airdrop!\n",
      "Won! Susana airdrop!\n",
      "Won! Susana airdrop!\n",
      "Won! Susana airdrop!\n",
      "Won! Susana airdrop!\n",
      "Won! Susana airdrop!\n",
      "Won! Susana airdrop!\n",
      "Won! Susana airdrop!\n",
      "Won! Susana airdrop!\n",
      "Won! Susana airdrop!\n",
      "Won! Susana airdrop!\n",
      "Won! Susana airdrop!\n",
      "Won! Susana airdrop!\n",
      "Won! Susana airdrop!\n",
      "Won! Susana airdrop!\n",
      "Won! Susana airdrop!\n",
      "Won! Susana airdrop!\n",
      "Won! Susana airdrop!\n",
      "Won! Susana airdrop!\n",
      "Won! Susana airdrop!\n",
      "Won! Susana airdrop!\n",
      "Won! Susana airdrop!\n",
      "Won! Susana airdrop!\n",
      "Won! Susana airdrop!\n",
      "Won! Susana airdrop!\n",
      "Won! Susana airdrop!\n",
      "Won! Susana airdrop!\n",
      "Won! Susana airdrop!\n",
      "Won! Susana airdrop!\n",
      "Won! Susana airdrop!\n",
      "Won! Susana airdrop!\n",
      "Won! Susana airdrop!\n",
      "Won! Susana airdrop!\n",
      "Won! Susana airdrop!\n",
      "Won! Susana airdrop!\n",
      "Won! Susana airdrop!\n",
      "Won! Susana airdrop!\n",
      "Won! Susana airdrop!\n",
      "Won! Susana airdrop!\n",
      "Won! Susana prize!\n",
      "Won! Susana airdrop!\n",
      "Won! Susana airdrop!\n",
      "Won! Susana airdrop!\n",
      "Won! Susana airdrop!\n",
      "Won! Susana airdrop!\n",
      "Won! Susana airdrop!\n",
      "Won! Susana airdrop!\n",
      "Won! Susana airdrop!\n",
      "Won! Susana airdrop!\n",
      "Won! Susana airdrop!\n",
      "Won! Susana airdrop!\n",
      "Won! Susana airdrop!\n",
      "Won! Susana airdrop!\n",
      "Won! Susana airdrop!\n",
      "Won! Susana airdrop!\n",
      "Won! Susana airdrop!\n",
      "Won! Susana airdrop!\n",
      "Won! Susana airdrop!\n",
      "Won! Susana airdrop!\n",
      "Won! Susana airdrop!\n",
      "Won! Susana airdrop!\n",
      "Won! Susana airdrop!\n",
      "Won! Susana airdrop!\n",
      "Won! Susana airdrop!\n",
      "Won! Susana airdrop!\n",
      "Won! Susana airdrop!\n",
      "Won! Susana airdrop!\n",
      "Won! Susana airdrop!\n",
      "Won! Susana airdrop!\n",
      "Won! Susana airdrop!\n",
      "Won! Susana airdrop!\n",
      "Won! Susana airdrop!\n",
      "Won! Susana airdrop!\n",
      "Won! Susana airdrop!\n",
      "Won! Susana airdrop!\n",
      "Won! Susana airdrop!\n",
      "Won! Susana airdrop!\n",
      "Won! Susana airdrop!\n",
      "Won! Susana airdrop!\n",
      "Won! Susana airdrop!\n",
      "Won! Susana airdrop!\n",
      "Won! Susana airdrop!\n",
      "Won! Susana airdrop!\n"
     ]
    }
   ],
   "source": [
    "for i in range(2425846): # 1 Year estimated block\n",
    "    p.wrap()\n",
    "    won_prize, won_airdrop = p.commit(operator_name[0])"
   ]
  },
  {
   "cell_type": "code",
   "execution_count": 12,
   "metadata": {},
   "outputs": [
    {
     "data": {
      "text/plain": [
       "{'name': 'Susana',\n",
       " 'balance': 12641.604945889014,\n",
       " 'delegated': 1190000.0000158376,\n",
       " 'delegators': [],\n",
       " 'total_supported_power': 0,\n",
       " 'power_supporters': {},\n",
       " 'delegatees': ['Susana', 'Donald', 'Hayden'],\n",
       " 'delegated_balances': {'Susana': 1190000.0000158376,\n",
       "  'Donald': 11900.000000159558,\n",
       "  'Hayden': 11900.000000159558}}"
      ]
     },
     "execution_count": 12,
     "metadata": {},
     "output_type": "execute_result"
    }
   ],
   "source": [
    "p_oper = operator_name[0]\n",
    "asdict(p.Operators[p_oper])"
   ]
  },
  {
   "cell_type": "code",
   "execution_count": 13,
   "metadata": {},
   "outputs": [
    {
     "data": {
      "text/plain": [
       "2425846"
      ]
     },
     "execution_count": 13,
     "metadata": {},
     "output_type": "execute_result"
    }
   ],
   "source": [
    "p.Last_committed"
   ]
  },
  {
   "cell_type": "code",
   "execution_count": 14,
   "metadata": {},
   "outputs": [],
   "source": [
    "# 100 users in game\n",
    "for i in range(10):\n",
    "    exist = True\n",
    "    while exist:\n",
    "        _name = names.get_first_name()\n",
    "        exist, [_, _, _] = p2.check_name(_name)\n",
    "    \n",
    "    p2.add_user(_name, 10_000)"
   ]
  },
  {
   "cell_type": "code",
   "execution_count": 15,
   "metadata": {},
   "outputs": [
    {
     "data": {
      "text/plain": [
       "{'Tom': User(name='Tom', balance=10000.0, delegated=0.0),\n",
       " 'Robert': User(name='Robert', balance=10000.0, delegated=0.0),\n",
       " 'Linda': User(name='Linda', balance=10000.0, delegated=0.0),\n",
       " 'Andrew': User(name='Andrew', balance=10000.0, delegated=0.0),\n",
       " 'Larry': User(name='Larry', balance=10000.0, delegated=0.0),\n",
       " 'Anita': User(name='Anita', balance=10000.0, delegated=0.0),\n",
       " 'Guillermo': User(name='Guillermo', balance=10000.0, delegated=0.0),\n",
       " 'Autumn': User(name='Autumn', balance=10000.0, delegated=0.0),\n",
       " 'Ashley': User(name='Ashley', balance=10000.0, delegated=0.0),\n",
       " 'Keith': User(name='Keith', balance=10000.0, delegated=0.0)}"
      ]
     },
     "execution_count": 15,
     "metadata": {},
     "output_type": "execute_result"
    }
   ],
   "source": [
    "p2.Users"
   ]
  },
  {
   "cell_type": "code",
   "execution_count": 16,
   "metadata": {},
   "outputs": [
    {
     "data": {
      "text/plain": [
       "{'Tom': Operator(name='Tom', balance=10000.0, delegated=1000000.0, total_supported_power=0, power_supporters={}, delegatees=['Tom'], delegated_balances={'Tom': 1000000}),\n",
       " 'Robert': Operator(name='Robert', balance=10000.0, delegated=1000000.0, total_supported_power=0, power_supporters={}, delegatees=['Robert'], delegated_balances={'Robert': 1000000})}"
      ]
     },
     "execution_count": 16,
     "metadata": {},
     "output_type": "execute_result"
    }
   ],
   "source": [
    "###### Need Minimum deposit need for being Operator\n",
    "name_list = [u for u in p2.Users.keys()]\n",
    "for name in name_list[:2]:\n",
    "    p2.faucet(name, OMD)\n",
    "    p2.add_operator(name)\n",
    "\n",
    "p2.Operators"
   ]
  },
  {
   "cell_type": "code",
   "execution_count": 17,
   "metadata": {},
   "outputs": [
    {
     "data": {
      "text/plain": [
       "{'Guillermo': Player(name='Guillermo', balance=10000.0, delegated=0.0, power_bought=0, power_available=0, power_played=0, power_supporting=0, history={}),\n",
       " 'Autumn': Player(name='Autumn', balance=10000.0, delegated=0.0, power_bought=0, power_available=0, power_played=0, power_supporting=0, history={}),\n",
       " 'Ashley': Player(name='Ashley', balance=10000.0, delegated=0.0, power_bought=0, power_available=0, power_played=0, power_supporting=0, history={}),\n",
       " 'Keith': Player(name='Keith', balance=10000.0, delegated=0.0, power_bought=0, power_available=0, power_played=0, power_supporting=0, history={})}"
      ]
     },
     "execution_count": 17,
     "metadata": {},
     "output_type": "execute_result"
    }
   ],
   "source": [
    "for name in name_list[6:]:\n",
    "    p2.add_player(name)\n",
    "\n",
    "p2.Players"
   ]
  },
  {
   "cell_type": "code",
   "execution_count": 18,
   "metadata": {},
   "outputs": [
    {
     "data": {
      "text/plain": [
       "{'Linda': User(name='Linda', balance=10000.0, delegated=0.0),\n",
       " 'Andrew': User(name='Andrew', balance=10000.0, delegated=0.0),\n",
       " 'Larry': User(name='Larry', balance=10000.0, delegated=0.0),\n",
       " 'Anita': User(name='Anita', balance=10000.0, delegated=0.0)}"
      ]
     },
     "execution_count": 18,
     "metadata": {},
     "output_type": "execute_result"
    }
   ],
   "source": [
    "p2.Users"
   ]
  },
  {
   "cell_type": "code",
   "execution_count": 19,
   "metadata": {},
   "outputs": [],
   "source": [
    "user_name = [u for u in p2.Users.keys()]\n",
    "operator_name = [o for o in p2.Operators.keys()]\n",
    "player_name = [p for p in p2.Players.keys()]"
   ]
  },
  {
   "cell_type": "code",
   "execution_count": 20,
   "metadata": {},
   "outputs": [],
   "source": [
    "p2.delegate(user_name[0], operator_name[0], 10000)\n",
    "p2.delegate(user_name[1], operator_name[0], 10000)\n",
    "p2.delegate(user_name[2], operator_name[1], 10000)\n",
    "p2.delegate(user_name[3], operator_name[1], 10000)"
   ]
  },
  {
   "cell_type": "code",
   "execution_count": 21,
   "metadata": {},
   "outputs": [
    {
     "data": {
      "text/plain": [
       "{'name': 'Tom',\n",
       " 'balance': 10000.0,\n",
       " 'delegated': 1000000.0,\n",
       " 'delegators': [],\n",
       " 'total_supported_power': 0,\n",
       " 'power_supporters': {},\n",
       " 'delegatees': ['Tom', 'Linda', 'Andrew'],\n",
       " 'delegated_balances': {'Tom': 1000000, 'Linda': 10000, 'Andrew': 10000}}"
      ]
     },
     "execution_count": 21,
     "metadata": {},
     "output_type": "execute_result"
    }
   ],
   "source": [
    "asdict(p2.Operators[operator_name[0]])"
   ]
  },
  {
   "cell_type": "code",
   "execution_count": 22,
   "metadata": {},
   "outputs": [
    {
     "data": {
      "text/plain": [
       "0"
      ]
     },
     "execution_count": 22,
     "metadata": {},
     "output_type": "execute_result"
    }
   ],
   "source": [
    "p2.Current_block"
   ]
  },
  {
   "cell_type": "code",
   "execution_count": 23,
   "metadata": {},
   "outputs": [],
   "source": [
    "p2.wrap(2425846)"
   ]
  },
  {
   "cell_type": "code",
   "execution_count": 24,
   "metadata": {},
   "outputs": [
    {
     "data": {
      "text/plain": [
       "(False, False)"
      ]
     },
     "execution_count": 24,
     "metadata": {},
     "output_type": "execute_result"
    }
   ],
   "source": [
    "p2.commit(operator_name[0])"
   ]
  },
  {
   "cell_type": "code",
   "execution_count": 25,
   "metadata": {},
   "outputs": [
    {
     "data": {
      "text/plain": [
       "{'name': 'Tom',\n",
       " 'balance': 10000.0,\n",
       " 'delegated': 1173953.3133737547,\n",
       " 'delegators': [],\n",
       " 'total_supported_power': 0,\n",
       " 'power_supporters': {},\n",
       " 'delegatees': ['Tom', 'Linda', 'Andrew'],\n",
       " 'delegated_balances': {'Tom': 1173953.3133737547,\n",
       "  'Linda': 11739.533133737548,\n",
       "  'Andrew': 11739.533133737548}}"
      ]
     },
     "execution_count": 25,
     "metadata": {},
     "output_type": "execute_result"
    }
   ],
   "source": [
    "asdict(p2.Operators[operator_name[0]])"
   ]
  },
  {
   "cell_type": "code",
   "execution_count": 26,
   "metadata": {},
   "outputs": [
    {
     "data": {
      "text/plain": [
       "{'name': 'Susana',\n",
       " 'balance': 12641.604945889014,\n",
       " 'delegated': 1190000.0000158376,\n",
       " 'delegators': [],\n",
       " 'total_supported_power': 0,\n",
       " 'power_supporters': {},\n",
       " 'delegatees': ['Susana', 'Donald', 'Hayden'],\n",
       " 'delegated_balances': {'Susana': 1190000.0000158376,\n",
       "  'Donald': 11900.000000159558,\n",
       "  'Hayden': 11900.000000159558}}"
      ]
     },
     "execution_count": 26,
     "metadata": {},
     "output_type": "execute_result"
    }
   ],
   "source": [
    "asdict(p.Operators[p_oper])"
   ]
  },
  {
   "cell_type": "code",
   "execution_count": 27,
   "metadata": {},
   "outputs": [
    {
     "data": {
      "text/plain": [
       "1.5297938730139045"
      ]
     },
     "execution_count": 27,
     "metadata": {},
     "output_type": "execute_result"
    }
   ],
   "source": [
    "p.Airdrop_pool"
   ]
  },
  {
   "cell_type": "code",
   "execution_count": 31,
   "metadata": {},
   "outputs": [
    {
     "data": {
      "text/plain": [
       "521.8599401212638"
      ]
     },
     "execution_count": 31,
     "metadata": {},
     "output_type": "execute_result"
    }
   ],
   "source": [
    "p2.Airdrop_pool"
   ]
  },
  {
   "cell_type": "code",
   "execution_count": 32,
   "metadata": {},
   "outputs": [
    {
     "data": {
      "text/plain": [
       "1812.9844168767358"
      ]
     },
     "execution_count": 32,
     "metadata": {},
     "output_type": "execute_result"
    }
   ],
   "source": [
    "p.Prize_pool"
   ]
  },
  {
   "cell_type": "code",
   "execution_count": 33,
   "metadata": {},
   "outputs": [
    {
     "data": {
      "text/plain": [
       "4696.739461091374"
      ]
     },
     "execution_count": 33,
     "metadata": {},
     "output_type": "execute_result"
    }
   ],
   "source": [
    "p2.Prize_pool"
   ]
  },
  {
   "cell_type": "code",
   "execution_count": 34,
   "metadata": {},
   "outputs": [
    {
     "data": {
      "text/plain": [
       "427600.0000321247"
      ]
     },
     "execution_count": 34,
     "metadata": {},
     "output_type": "execute_result"
    }
   ],
   "source": [
    "p.Total_TON_staked"
   ]
  },
  {
   "cell_type": "code",
   "execution_count": 35,
   "metadata": {},
   "outputs": [
    {
     "data": {
      "text/plain": [
       "394864.75928245974"
      ]
     },
     "execution_count": 35,
     "metadata": {},
     "output_type": "execute_result"
    }
   ],
   "source": [
    "p2.Total_TON_staked"
   ]
  },
  {
   "cell_type": "code",
   "execution_count": 36,
   "metadata": {},
   "outputs": [
    {
     "data": {
      "text/plain": [
       "2465301.958084885"
      ]
     },
     "execution_count": 36,
     "metadata": {},
     "output_type": "execute_result"
    }
   ],
   "source": [
    "p2.Total_TON_supply"
   ]
  },
  {
   "cell_type": "code",
   "execution_count": 37,
   "metadata": {},
   "outputs": [
    {
     "data": {
      "text/plain": [
       "2499000.000033218"
      ]
     },
     "execution_count": 37,
     "metadata": {},
     "output_type": "execute_result"
    }
   ],
   "source": [
    "p.Total_TON_supply"
   ]
  }
 ],
 "metadata": {
  "kernelspec": {
   "display_name": "Python 3",
   "language": "python",
   "name": "python3"
  },
  "language_info": {
   "codemirror_mode": {
    "name": "ipython",
    "version": 3
   },
   "file_extension": ".py",
   "mimetype": "text/x-python",
   "name": "python",
   "nbconvert_exporter": "python",
   "pygments_lexer": "ipython3",
   "version": "3.7.4"
  }
 },
 "nbformat": 4,
 "nbformat_minor": 4
}
